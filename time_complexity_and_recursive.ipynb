{
 "cells": [
  {
   "cell_type": "code",
   "execution_count": null,
   "id": "8c37dc80-5b2f-47ab-92ea-ab6b65ab46b4",
   "metadata": {},
   "outputs": [],
   "source": [
    "# Find time complexity of below code blocks :"
   ]
  },
  {
   "cell_type": "code",
   "execution_count": 14,
   "id": "92982f2c-9076-4c27-88f9-c1c20e2b2cea",
   "metadata": {},
   "outputs": [
    {
     "name": "stdout",
     "output_type": "stream",
     "text": [
      "Worst Case: O(n^2), Average Case Time Complexity: O(nlogn)\n"
     ]
    }
   ],
   "source": [
    "def quicksort(arr):\n",
    "    if len(arr) <= 1:\n",
    "        return arr\n",
    "    pivot = arr[len(arr) // 2]\n",
    "    left = [x for x in arr if x < pivot]\n",
    "    middle = [x for x in arr if x == pivot]\n",
    "    right = [x for x in arr if x > pivot]\n",
    "    return quicksort(left) + middle + quicksort(right)\n",
    "\n",
    "quicksort([1,3,5,6,5])\n",
    "print(f\"Worst Case: O(n^2), Average Case Time Complexity: O(nlogn)\")"
   ]
  },
  {
   "cell_type": "code",
   "execution_count": 15,
   "id": "55cc3e89-e150-4e03-91d2-b522df7377ae",
   "metadata": {},
   "outputs": [
    {
     "name": "stdout",
     "output_type": "stream",
     "text": [
      "O(rows X cols)\n"
     ]
    }
   ],
   "source": [
    "def nested_loop_example(matrix):\n",
    "    rows, cols = len(matrix), len(matrix[0])\n",
    "    total = 0\n",
    "    for i in range(rows):\n",
    "        for j in range(cols):\n",
    "            total += matrix[i][j]\n",
    "    return total\n",
    "print(f\"O(rows X cols)\")"
   ]
  },
  {
   "cell_type": "code",
   "execution_count": 16,
   "id": "d7c1cbf1-aa4e-4a06-a1d6-9492f9f291a7",
   "metadata": {},
   "outputs": [
    {
     "name": "stdout",
     "output_type": "stream",
     "text": [
      "O(n)\n"
     ]
    }
   ],
   "source": [
    "def example_function(arr):\n",
    "    result = 0\n",
    "    for element in arr:\n",
    "        result += element\n",
    "    return result\n",
    "\n",
    "print(f\"O(n)\")"
   ]
  },
  {
   "cell_type": "code",
   "execution_count": 17,
   "id": "c81fff05-44ee-4dad-99fe-24b11b20c7ef",
   "metadata": {},
   "outputs": [
    {
     "name": "stdout",
     "output_type": "stream",
     "text": [
      "O(n^2)\n"
     ]
    }
   ],
   "source": [
    "def longest_increasing_subsequence(nums):\n",
    "    n = len(nums)\n",
    "    lis = [1] * n\n",
    "    for i in range(1, n):\n",
    "        for j in range(0, i):\n",
    "            if nums[i] > nums[j] and lis[i] < lis[j] + 1:\n",
    "                lis[i] = lis[j] + 1\n",
    "    return max(lis)\n",
    "print(f\"O(n^2)\")"
   ]
  },
  {
   "cell_type": "code",
   "execution_count": 18,
   "id": "288d71e5-f53b-45d5-abbf-9d807699d84b",
   "metadata": {},
   "outputs": [
    {
     "name": "stdout",
     "output_type": "stream",
     "text": [
      "O(n^2)\n"
     ]
    }
   ],
   "source": [
    "def mysterious_function(arr):\n",
    "    n = len(arr)\n",
    "    result = 0\n",
    "    for i in range(n):\n",
    "        for j in range(i, n):\n",
    "            result += arr[i] * arr[j]\n",
    "    return result\n",
    "print(f\"O(n^2)\")"
   ]
  },
  {
   "cell_type": "code",
   "execution_count": null,
   "id": "e6a865af-ff02-4e4a-b90e-5d8ddc71ba79",
   "metadata": {},
   "outputs": [],
   "source": [
    "# Solve the following problems on recursion:"
   ]
  },
  {
   "cell_type": "code",
   "execution_count": null,
   "id": "fc819d07-0e1b-4759-950d-ea358aa6dbde",
   "metadata": {},
   "outputs": [],
   "source": [
    "# Problem 6 : Sum of Digits\n",
    "# Write a recursive function to calculate the sum of digits of a given positive integer.\n",
    "# sum_of_digits(123) -> 6"
   ]
  },
  {
   "cell_type": "code",
   "execution_count": 25,
   "id": "6e7c0e0a-41a5-4a6e-bcdc-416b271ff4c5",
   "metadata": {},
   "outputs": [
    {
     "data": {
      "text/plain": [
       "6"
      ]
     },
     "execution_count": 25,
     "metadata": {},
     "output_type": "execute_result"
    }
   ],
   "source": [
    "def SumOfDigits(n):\n",
    "    if n == 0:\n",
    "        return 0\n",
    "\n",
    "    return (n % 10) + SumOfDigits(n // 10)\n",
    "\n",
    "SumOfDigits(123)"
   ]
  },
  {
   "cell_type": "code",
   "execution_count": 3,
   "id": "2fce5637-3b23-4d0c-a8f5-1476ebf6f97a",
   "metadata": {},
   "outputs": [
    {
     "name": "stdout",
     "output_type": "stream",
     "text": [
      "0 1 1 2 3 5 "
     ]
    }
   ],
   "source": [
    "# Problem 7: Fibonacci Series\n",
    "# Write a recursive function to generate the first n numbers of the Fibonacci series.\n",
    "# fibonacci_series(6) -> [0, 1, 1, 2, 3, 5]\n",
    "\n",
    "def Fibonacci(n):\n",
    "    if n <= 1:\n",
    "        return n\n",
    "\n",
    "    return Fibonacci(n-1) + Fibonacci(n-2)\n",
    "\n",
    "n = 6\n",
    "for i in range(n):\n",
    "    print(Fibonacci(i), end=\" \")"
   ]
  },
  {
   "cell_type": "code",
   "execution_count": 4,
   "id": "dea9cb1c-96ae-4dc0-ad39-d7d7febcdf97",
   "metadata": {},
   "outputs": [
    {
     "name": "stdout",
     "output_type": "stream",
     "text": [
      "True\n"
     ]
    }
   ],
   "source": [
    "def subset_sum(nums, target):\n",
    "    # Base cases\n",
    "    if target == 0:\n",
    "        return True\n",
    "    if len(nums) == 0 and target != 0:\n",
    "        return False\n",
    "\n",
    "    # If the last element is greater than the target, it cannot be part of the subset\n",
    "    if nums[-1] > target:\n",
    "        return subset_sum(nums[:-1], target)\n",
    "\n",
    "    # Check both including and excluding the last element\n",
    "    return subset_sum(nums[:-1], target) or subset_sum(nums[:-1], target - nums[-1])\n",
    "\n",
    "# Example usage\n",
    "print(subset_sum([3, 34, 4, 12, 5, 2], 9))  # Output: True\n"
   ]
  },
  {
   "cell_type": "code",
   "execution_count": 5,
   "id": "a2c2d1ad-9b54-4ece-b4e4-382de4860841",
   "metadata": {},
   "outputs": [
    {
     "name": "stdout",
     "output_type": "stream",
     "text": [
      "True\n"
     ]
    }
   ],
   "source": [
    "def word_break(s, word_dict):\n",
    "    # Convert the list to a set for faster lookups\n",
    "    word_set = set(word_dict)\n",
    "    return word_break_recursive(s, word_set)\n",
    "\n",
    "def word_break_recursive(s, word_set):\n",
    "    # Base case: if the string is empty, it can be segmented\n",
    "    if not s:\n",
    "        return True\n",
    "\n",
    "    # Check all prefixes of the string\n",
    "    for i in range(1, len(s) + 1):\n",
    "        prefix = s[:i]\n",
    "        suffix = s[i:]\n",
    "        # If the prefix is in the dictionary and the suffix can be segmented\n",
    "        if prefix in word_set and word_break_recursive(suffix, word_set):\n",
    "            return True\n",
    "\n",
    "    # If no valid segmentation is found, return False\n",
    "    return False\n",
    "\n",
    "# Example usage\n",
    "print(word_break(\"leetcode\", [\"leet\", \"code\"]))  # Output: True\n"
   ]
  },
  {
   "cell_type": "code",
   "execution_count": 6,
   "id": "fa8d2460-0e73-4e1f-aa24-9f3c6c0ad4b7",
   "metadata": {},
   "outputs": [
    {
     "name": "stdout",
     "output_type": "stream",
     "text": [
      ".Q..\n",
      "...Q\n",
      "Q...\n",
      "..Q.\n",
      "\n",
      "..Q.\n",
      "Q...\n",
      "...Q\n",
      ".Q..\n",
      "\n"
     ]
    }
   ],
   "source": [
    "def is_valid(board, row, col, n):\n",
    "    # Check column\n",
    "    for i in range(row):\n",
    "        if board[i][col] == 'Q':\n",
    "            return False\n",
    "\n",
    "    # Check upper left diagonal\n",
    "    for i, j in zip(range(row-1, -1, -1), range(col-1, -1, -1)):\n",
    "        if board[i][j] == 'Q':\n",
    "            return False\n",
    "\n",
    "    # Check upper right diagonal\n",
    "    for i, j in zip(range(row-1, -1, -1), range(col+1, n)):\n",
    "        if board[i][j] == 'Q':\n",
    "            return False\n",
    "\n",
    "    return True\n",
    "\n",
    "def solve_n_queens_recursive(board, row, n, solutions):\n",
    "    if row == n:\n",
    "        solutions.append([''.join(row) for row in board])\n",
    "        return\n",
    "\n",
    "    for col in range(n):\n",
    "        if is_valid(board, row, col, n):\n",
    "            board[row][col] = 'Q'\n",
    "            solve_n_queens_recursive(board, row + 1, n, solutions)\n",
    "            board[row][col] = '.'\n",
    "\n",
    "def n_queens(n):\n",
    "    board = [['.' for _ in range(n)] for _ in range(n)]\n",
    "    solutions = []\n",
    "    solve_n_queens_recursive(board, 0, n, solutions)\n",
    "    return solutions\n",
    "\n",
    "# Example usage\n",
    "solutions = n_queens(4)\n",
    "for solution in solutions:\n",
    "    for row in solution:\n",
    "        print(row)\n",
    "    print()\n"
   ]
  }
 ],
 "metadata": {
  "kernelspec": {
   "display_name": "Python 3 (ipykernel)",
   "language": "python",
   "name": "python3"
  },
  "language_info": {
   "codemirror_mode": {
    "name": "ipython",
    "version": 3
   },
   "file_extension": ".py",
   "mimetype": "text/x-python",
   "name": "python",
   "nbconvert_exporter": "python",
   "pygments_lexer": "ipython3",
   "version": "3.12.0"
  }
 },
 "nbformat": 4,
 "nbformat_minor": 5
}
